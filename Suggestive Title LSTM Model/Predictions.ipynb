{
 "cells": [
  {
   "cell_type": "code",
   "execution_count": 134,
   "metadata": {},
   "outputs": [],
   "source": [
    "# Importing the Libraries\n",
    "\n",
    "from tensorflow.keras.models import load_model\n",
    "import numpy as np\n",
    "import pickle\n",
    "import heapq\n",
    "import random\n",
    "from random import randrange\n",
    "from tensorflow.keras.preprocessing.sequence import pad_sequences\n",
    "\n",
    "def model_selection():\n",
    "    \n",
    "    seq_length =  {'Autos & Vehicles':19\n",
    "                  ,'Comedy':20\n",
    "                  ,'Education':16\n",
    "                  ,'Entertainment':23\n",
    "                  ,'Film & Animation':17\n",
    "                  ,'Gaming':18\n",
    "                  ,'Howto & Style':22\n",
    "                  ,'Music':21.  \n",
    "                  ,'News & Politics':18\n",
    "                  ,'Nonprofits & Activism':16\n",
    "                  ,'People & Blogs':20\n",
    "                  ,'Pets & Animals':18\n",
    "                  ,'Science & Technology':16\n",
    "                  ,'Sports':21\n",
    "                  ,'Travel & Events':17}\n",
    "    \n",
    "    selected = False\n",
    "    while selected != True:\n",
    "        print(\"Categories available are Autos & Vehicles, Comedy, Education, Entertainment, Film & Animation, Gaming, Howto & Style, Music, News & Politics, Nonprofits & Activism, People & Blogs, Pets & Animals, Science & Technology,Sports, and Travel & Events\")\n",
    "        category = input(\"Please Select a Category From the List\")\n",
    "        \n",
    "        if category in ('Autos & Vehicles','Comedy','Education','Entertainment','Film & Animation','Gaming','Howto & Style',\n",
    "                        'Music','News & Politics','Nonprofits & Activism','People & Blogs','Pets & Animals','Science & Technology',\n",
    "                        'Sports','Travel & Events'):\n",
    "            selected = True\n",
    "            model = load_model(category+'keras_next_word_model.h5')\n",
    "            tokenizer = pickle.load(open(category+'tokenizer.pkl', 'rb'))\n",
    "            slen = seq_length[category]\n",
    "            return model, tokenizer, slen\n",
    "        else:\n",
    "            print(\"Not a possible selection\")\n",
    "\n",
    "def sample(preds, top_n):\n",
    "    preds = np.asarray(preds).astype('float64')\n",
    "    preds = np.log(preds)\n",
    "    exp_preds = np.exp(preds)\n",
    "    preds = exp_preds / np.sum(exp_preds)\n",
    "    return np.argpartition(preds[0], -5)[-5:]\n",
    "\n",
    "def predict_completions(text, n, unique_words, used_words):\n",
    "    preds = model.predict(text)\n",
    "    next_indices = sample(preds, n + 25)\n",
    "    return [unique_words[idx] for idx in next_indices if unique_words[idx] not in used_words][:n]\n",
    "\n",
    "def Predict_Next_Words(model, tokenizer, text, used_words, slen):\n",
    "\n",
    "    #flip dictionary keys to values\n",
    "    lookupvalue = {v: k for k, v in tokenizer.word_index.items()}\n",
    "\n",
    "    sequence = np.array(tokenizer.texts_to_sequences([text])[-1])\n",
    "\n",
    "    pad_encoded = pad_sequences([sequence], maxlen=slen, truncating='pre')\n",
    "\n",
    "    preds = predict_completions(pad_encoded, 5, lookupvalue, used_words)\n",
    "\n",
    "    return preds\n",
    "\n",
    "def generate_random_title(word_length, model, tokenizer, slen):\n",
    "    first_word = input(\"Input a word to work off for the title: \")\n",
    "#     first_word = random.choice(list(tokenizer.word_index.keys()))\n",
    "    titles = []\n",
    "    for i in range(5):\n",
    "        used_words = [i for i in first_word.split(' ')]\n",
    "        for i in range(word_length):\n",
    "            text = Predict_Next_Words(model, tokenizer, used_words[-1], used_words, slen)\n",
    "            used_words.append(text[randrange(len(text))])\n",
    "        titles.append(' '.join(used_words))\n",
    "    return titles"
   ]
  },
  {
   "cell_type": "code",
   "execution_count": 136,
   "metadata": {},
   "outputs": [
    {
     "name": "stdout",
     "output_type": "stream",
     "text": [
      "Categories available are Autos & Vehicles, Comedy, Education, Entertainment, Film & Animation, Gaming, Howto & Style, Music, News & Politics, Nonprofits & Activism, People & Blogs, Pets & Animals, Science & Technology,Sports, and Travel & Events\n"
     ]
    },
    {
     "name": "stdout",
     "output_type": "stream",
     "text": [
      "Please Select a Category From the List Comedy\n"
     ]
    }
   ],
   "source": [
    "model, tokenizer, slen = model_selection()"
   ]
  },
  {
   "cell_type": "code",
   "execution_count": 137,
   "metadata": {},
   "outputs": [
    {
     "name": "stdout",
     "output_type": "stream",
     "text": [
      "Input a word to work off for the title:  Pokemon players in the wild\n"
     ]
    },
    {
     "name": "stdout",
     "output_type": "stream",
     "text": [
      "1/1 [==============================] - 3s 3s/step\n",
      "1/1 [==============================] - 0s 34ms/step\n"
     ]
    },
    {
     "name": "stderr",
     "output_type": "stream",
     "text": [
      "/Users/garrisonwinter/opt/anaconda3/lib/python3.7/site-packages/ipykernel_launcher.py:47: RuntimeWarning: divide by zero encountered in log\n"
     ]
    },
    {
     "name": "stdout",
     "output_type": "stream",
     "text": [
      "1/1 [==============================] - 0s 69ms/step\n",
      "1/1 [==============================] - 0s 60ms/step\n",
      "1/1 [==============================] - 0s 70ms/step\n",
      "1/1 [==============================] - 0s 45ms/step\n",
      "1/1 [==============================] - 0s 58ms/step\n",
      "1/1 [==============================] - 0s 36ms/step\n",
      "1/1 [==============================] - 0s 66ms/step\n",
      "1/1 [==============================] - 0s 40ms/step\n",
      "1/1 [==============================] - 0s 178ms/step\n",
      "1/1 [==============================] - 0s 45ms/step\n",
      "1/1 [==============================] - 0s 121ms/step\n",
      "1/1 [==============================] - 0s 92ms/step\n",
      "1/1 [==============================] - 0s 63ms/step\n",
      "1/1 [==============================] - 0s 50ms/step\n",
      "1/1 [==============================] - 0s 110ms/step\n",
      "1/1 [==============================] - 0s 45ms/step\n",
      "1/1 [==============================] - 0s 85ms/step\n",
      "1/1 [==============================] - 0s 86ms/step\n",
      "1/1 [==============================] - 0s 48ms/step\n",
      "1/1 [==============================] - 0s 35ms/step\n",
      "1/1 [==============================] - 0s 36ms/step\n",
      "1/1 [==============================] - 0s 39ms/step\n",
      "1/1 [==============================] - 0s 69ms/step\n",
      "1/1 [==============================] - 0s 37ms/step\n",
      "1/1 [==============================] - 0s 38ms/step\n",
      "1/1 [==============================] - 0s 69ms/step\n",
      "1/1 [==============================] - 0s 59ms/step\n",
      "1/1 [==============================] - 0s 122ms/step\n",
      "1/1 [==============================] - 0s 237ms/step\n",
      "1/1 [==============================] - 0s 81ms/step\n",
      "1/1 [==============================] - 0s 92ms/step\n",
      "1/1 [==============================] - 0s 55ms/step\n",
      "1/1 [==============================] - 0s 64ms/step\n"
     ]
    },
    {
     "data": {
      "text/plain": [
       "['Pokemon players in the wild singh gives youre completely worst construit polystyrene',\n",
       " 'Pokemon players in the wild removal jimin ever v episode speedrun us',\n",
       " 'Pokemon players in the wild singh blows are transformation corn service g',\n",
       " 'Pokemon players in the wild snl misadventures always tiktokers gucci reigns ropes',\n",
       " 'Pokemon players in the wild snl misadventures always sisters random how asian']"
      ]
     },
     "execution_count": 137,
     "metadata": {},
     "output_type": "execute_result"
    }
   ],
   "source": [
    "generate_random_title(7, model, tokenizer, slen)"
   ]
  },
  {
   "cell_type": "code",
   "execution_count": null,
   "metadata": {},
   "outputs": [],
   "source": []
  }
 ],
 "metadata": {
  "kernelspec": {
   "display_name": "Python 3",
   "language": "python",
   "name": "python3"
  },
  "language_info": {
   "codemirror_mode": {
    "name": "ipython",
    "version": 3
   },
   "file_extension": ".py",
   "mimetype": "text/x-python",
   "name": "python",
   "nbconvert_exporter": "python",
   "pygments_lexer": "ipython3",
   "version": "3.7.6"
  }
 },
 "nbformat": 4,
 "nbformat_minor": 5
}
